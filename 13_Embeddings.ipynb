{
 "cells": [
  {
   "cell_type": "markdown",
   "id": "4e50847f",
   "metadata": {},
   "source": [
    "# 1 HuggingFaceEmbeddings\n",
    "\n",
    "Definition: Free & local embeddings using HuggingFace models (sentence-transformers).\n",
    "\n",
    "When to use: Great for budget-friendly, offline, or quick experiments.\n",
    "\n",
    "\n",
    "pip install sentence-transformers\n",
    "\n",
    "\n",
    "Parameters: \n",
    "\n",
    "model_name=\"sentence-transformers/all-MiniLM-L6-v2\",\n",
    "model_kwargs={\"device\": \"cpu\"},  # or \"cuda\" for GPU\n",
    "encode_kwargs={\"normalize_embeddings\": True}  # optional preprocessing"
   ]
  },
  {
   "cell_type": "code",
   "execution_count": 1,
   "id": "f2e660b2",
   "metadata": {},
   "outputs": [
    {
     "name": "stderr",
     "output_type": "stream",
     "text": [
      "C:\\Users\\Noor Saeed\\AppData\\Local\\Temp\\ipykernel_18664\\793264971.py:3: LangChainDeprecationWarning: The class `HuggingFaceEmbeddings` was deprecated in LangChain 0.2.2 and will be removed in 1.0. An updated version of the class exists in the :class:`~langchain-huggingface package and should be used instead. To use it run `pip install -U :class:`~langchain-huggingface` and import as `from :class:`~langchain_huggingface import HuggingFaceEmbeddings``.\n",
      "  embeddings = HuggingFaceEmbeddings(model_name=\"sentence-transformers/all-MiniLM-L6-v2\")\n"
     ]
    },
    {
     "name": "stdout",
     "output_type": "stream",
     "text": [
      "384 [-0.04055782034993172, 0.013319515623152256, 0.01940910331904888, 0.0048216902650892735, -0.06119083985686302, 0.015379180200397968, 0.054146215319633484, 0.055209510028362274, 0.07971912622451782, -0.024081289768218994]\n"
     ]
    }
   ],
   "source": [
    "from langchain_community.embeddings import HuggingFaceEmbeddings\n",
    "\n",
    "embeddings = HuggingFaceEmbeddings(model_name=\"sentence-transformers/all-MiniLM-L6-v2\")\n",
    "query = \"What is LangChain?\"\n",
    "vector = embeddings.embed_query(query)\n",
    "print(len(vector), vector[:10])\n"
   ]
  },
  {
   "cell_type": "code",
   "execution_count": 3,
   "id": "6de5a862",
   "metadata": {},
   "outputs": [
    {
     "name": "stdout",
     "output_type": "stream",
     "text": [
      "3\n",
      "384\n",
      "[-0.04055783525109291, 0.013319502584636211, 0.019409090280532837, 0.004821713548153639, -0.06119082495570183, 0.015379191376268864, 0.054146215319633484, 0.05520952492952347, 0.07971912622451782, -0.024081286042928696]\n"
     ]
    }
   ],
   "source": [
    "sentences = [\n",
    "    \"What is LangChain?\",\n",
    "    \"LangChain helps build applications with LLMs.\",\n",
    "    \"Embeddings convert text to vectors.\"\n",
    "]\n",
    "\n",
    "vectors = embeddings.embed_documents(sentences)\n",
    "\n",
    "# vectors is a list of vectors, one per sentence\n",
    "print(len(vectors))           # number of sentences\n",
    "print(len(vectors[0]))        # length of first vector\n",
    "print(vectors[0][:10])        # first 10 elements of first vector"
   ]
  },
  {
   "cell_type": "markdown",
   "id": "692fb2e2",
   "metadata": {},
   "source": [
    "# 2. GPT4AllEmbeddings\n",
    "\n",
    "Definition: Free, CPU-based embeddings from GPT4All (runs locally).\n",
    "\n",
    "When to use: If you want completely offline embeddings without GPU or API calls — good for privacy and no-cost projects."
   ]
  },
  {
   "cell_type": "code",
   "execution_count": 5,
   "id": "7fdc53cd",
   "metadata": {},
   "outputs": [
    {
     "name": "stdout",
     "output_type": "stream",
     "text": [
      "Vector length: 384\n",
      "First 10 dimensions: [-0.025945313274860382, -0.06616382300853729, 0.016421642154455185, -0.08294721692800522, -0.023737074807286263, -0.024428129196166992, -0.07814609259366989, 0.030419807881116867, 0.04021967947483063, 0.003047361969947815]\n"
     ]
    }
   ],
   "source": [
    "from langchain_community.embeddings import GPT4AllEmbeddings\n",
    "\n",
    "# Initialize the embedding model\n",
    "embeddings = GPT4AllEmbeddings()\n",
    "\n",
    "# Example query\n",
    "query = \"LangChain helps connect LLMs with external tools.\"\n",
    "vector = embeddings.embed_query(query)\n",
    "\n",
    "print(\"Vector length:\", len(vector))\n",
    "print(\"First 10 dimensions:\", vector[:10])"
   ]
  },
  {
   "cell_type": "markdown",
   "id": "6d93b653",
   "metadata": {},
   "source": [
    "# 3 OpenAIEmbeddings\n",
    "\n",
    "Definition: Cloud-based embeddings from OpenAI (text-embedding-ada-002).\n",
    "\n",
    "When to use: Best for production RAG, chatbots, and semantic search (but requires API key & $$).\n"
   ]
  },
  {
   "cell_type": "code",
   "execution_count": null,
   "id": "3769dd5d",
   "metadata": {},
   "outputs": [],
   "source": [
    "from langchain_openai import OpenAIEmbeddings\n",
    "\n",
    "embeddings = OpenAIEmbeddings(model=\"text-embedding-ada-002\", api_key=\"here api key (Openai which is paid)\")\n",
    "query = \"What is LangChain?\"\n",
    "vector = embeddings.embed_query(query)\n",
    "print(len(vector), vector[:10])"
   ]
  },
  {
   "cell_type": "markdown",
   "id": "5b53ff0d",
   "metadata": {},
   "source": [
    "# 4 GoogleGenerativeAIEmbeddings\n",
    "\n",
    "when working with google gemini llm modals\n",
    "\n",
    "\n"
   ]
  },
  {
   "cell_type": "code",
   "execution_count": null,
   "id": "1b15e2d8",
   "metadata": {},
   "outputs": [],
   "source": [
    "\n",
    "from langchain_google_genai import GoogleGenerativeAIEmbeddings\n",
    "\n",
    "# Directly provide the API key here\n",
    "embeddings = GoogleGenerativeAIEmbeddings(model=\"models/embedding-001\",google_api_key=\"API KEY HERE\")\n",
    "\n",
    "# Example usage\n",
    "query = \"LangChain helps connect LLMs with external tools.\"\n",
    "vector = embeddings.embed_query(query)\n",
    "\n",
    "print(\"Vector length:\", len(vector))\n",
    "print(\"First 10 dimensions:\", vector[:10])\n"
   ]
  }
 ],
 "metadata": {
  "kernelspec": {
   "display_name": "myenv",
   "language": "python",
   "name": "python3"
  },
  "language_info": {
   "codemirror_mode": {
    "name": "ipython",
    "version": 3
   },
   "file_extension": ".py",
   "mimetype": "text/x-python",
   "name": "python",
   "nbconvert_exporter": "python",
   "pygments_lexer": "ipython3",
   "version": "3.11.1"
  }
 },
 "nbformat": 4,
 "nbformat_minor": 5
}
