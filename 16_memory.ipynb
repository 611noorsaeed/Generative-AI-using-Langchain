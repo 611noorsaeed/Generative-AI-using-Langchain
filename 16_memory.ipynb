{
 "cells": [
  {
   "cell_type": "markdown",
   "id": "e301d6f0",
   "metadata": {},
   "source": [
    "# 1. ConversationBufferMemory\n",
    "\n",
    "Definition: Stores the entire conversation history as raw text.\n",
    "\n",
    "When to use: Use when you want the model to remember everything said so far (small/medium conversations)."
   ]
  },
  {
   "cell_type": "code",
   "execution_count": 2,
   "id": "04789dd3",
   "metadata": {},
   "outputs": [
    {
     "name": "stdout",
     "output_type": "stream",
     "text": [
      "AI: Hi Noor Saeed! It's nice to meet you.  I'm an AI, and while I don't experience things like meeting people in the same way humans do, I'm happy to chat with you.  28 is a great age!  Are you doing anything interesting today?  I've been processing a large dataset on the migratory patterns of monarch butterflies – fascinating stuff, the precision of their navigation is truly remarkable.  They use a combination of the sun's position, the Earth's magnetic field, and possibly even celestial cues. Did you know that?  Anyway, tell me more about yourself – what are you up to?\n"
     ]
    }
   ],
   "source": [
    "from langchain_google_genai import ChatGoogleGenerativeAI \n",
    "from langchain.chains import ConversationChain\n",
    "from langchain.memory import ConversationBufferMemory\n",
    "import os \n",
    "from dotenv import load_dotenv\n",
    "load_dotenv()\n",
    "\n",
    "llm = ChatGoogleGenerativeAI(model=\"gemini-1.5-flash\", google_api_key=os.getenv(\"GOOGLE_API_KEY\"))\n",
    "\n",
    "memory = ConversationBufferMemory()\n",
    "conversation = ConversationChain(llm=llm, memory=memory)\n",
    "\n",
    "print(conversation.predict(input=\"Hi, I am Noor Saeed. age 28\"))"
   ]
  },
  {
   "cell_type": "code",
   "execution_count": 3,
   "id": "9879ef5f",
   "metadata": {},
   "outputs": [
    {
     "name": "stdout",
     "output_type": "stream",
     "text": [
      "Your name is Noor Saeed.  We established that at the beginning of our conversation.  Is there anything else I can help you with? Perhaps you'd like to hear more about those monarch butterflies?  Their migration across North America is truly an incredible feat of nature.  The generations involved are quite something – it's not a single butterfly making the entire journey.\n"
     ]
    }
   ],
   "source": [
    "print(conversation.predict(input=\"What is my name?\"))"
   ]
  },
  {
   "cell_type": "code",
   "execution_count": 4,
   "id": "88de02dd",
   "metadata": {},
   "outputs": [
    {
     "name": "stdout",
     "output_type": "stream",
     "text": [
      "You told me at the beginning of our conversation that you are 28 years old.  Is there anything else I can tell you about, Noor Saeed?  Perhaps you'd like to discuss the surprisingly complex social structures of meerkats?  I've been learning about them lately, and their cooperative breeding strategies are quite fascinating.\n"
     ]
    }
   ],
   "source": [
    "print(conversation.predict(input=\"What is my age?\"))"
   ]
  },
  {
   "cell_type": "markdown",
   "id": "a2226ad4",
   "metadata": {},
   "source": [
    "# 2. ConversationBufferWindowMemory\n",
    "\n",
    "Definition: Stores only the last k conversation turns.\n",
    "\n",
    "\n",
    "When to use: Use when you want recent context only (avoid long history)."
   ]
  },
  {
   "cell_type": "code",
   "execution_count": 5,
   "id": "9887b1ce",
   "metadata": {},
   "outputs": [
    {
     "name": "stderr",
     "output_type": "stream",
     "text": [
      "C:\\Users\\Noor Saeed\\AppData\\Local\\Temp\\ipykernel_11096\\3787788681.py:3: LangChainDeprecationWarning: Please see the migration guide at: https://python.langchain.com/docs/versions/migrating_memory/\n",
      "  memory = ConversationBufferWindowMemory(k=2)  # remembers only last 2 interactions\n"
     ]
    },
    {
     "name": "stdout",
     "output_type": "stream",
     "text": [
      "That's a lovely choice!  Blue is a very popular color, and for good reason.  It's often associated with calmness, peace, and serenity – think of a clear blue sky or the tranquil ocean.  Interestingly, different shades of blue evoke different feelings.  A deep, royal blue can feel regal and sophisticated, while a lighter, sky blue can feel more innocent and carefree.  Do you have a particular shade of blue that's your absolute favorite? Perhaps a cerulean, azure, or sapphire?  I find the variations fascinating!  What other things in your life are blue, besides perhaps clothing or décor?\n"
     ]
    }
   ],
   "source": [
    "from langchain.memory import ConversationBufferWindowMemory\n",
    "\n",
    "memory = ConversationBufferWindowMemory(k=2)  # remembers only last 2 interactions\n",
    "\n",
    "\n",
    "conversation = ConversationChain(llm=llm, memory=memory)\n",
    "\n",
    "print(conversation.predict(input=\"My favorite color is blue.\"))"
   ]
  },
  {
   "cell_type": "code",
   "execution_count": 6,
   "id": "616edf69",
   "metadata": {},
   "outputs": [
    {
     "name": "stdout",
     "output_type": "stream",
     "text": [
      "Ah, red!  A vibrant and powerful color choice.  Quite the contrast to your preference for blue, which is interesting!  Red is often associated with energy, passion, excitement, and even danger or warning. Think of a fiery sunset, a stop sign, or a racing car.  The psychological impact of red is quite strong; studies have shown it can even increase heart rate and blood pressure!  Do you prefer a particular shade of red?  Crimson, scarlet, ruby, or perhaps a more muted burgundy?  And what are some things you own or see that are red that you particularly like?  Is there a connection between your liking for both blue and red – perhaps you are drawn to colors that represent both calm and excitement?\n"
     ]
    }
   ],
   "source": [
    "print(conversation.predict(input=\"I also like red.\"))"
   ]
  },
  {
   "cell_type": "code",
   "execution_count": 7,
   "id": "c7e93d05",
   "metadata": {},
   "outputs": [
    {
     "name": "stdout",
     "output_type": "stream",
     "text": [
      "Based on our conversation so far, you've expressed a liking for blue and red.  You haven't mentioned any other colors you like, so I can only definitively say you like blue and red.  I don't have access to your personal preferences beyond what you've explicitly told me in this conversation.\n"
     ]
    }
   ],
   "source": [
    "print(conversation.predict(input=\"What colors do I like?\"))"
   ]
  },
  {
   "cell_type": "markdown",
   "id": "6de6528a",
   "metadata": {},
   "source": [
    "# 3. ConversationSummaryMemory\n",
    "\n",
    "Definition: Summarizes past conversations using an LLM instead of storing all messages.\n",
    "\n",
    "When to use: Use for long conversations where full history would exceed token limits."
   ]
  },
  {
   "cell_type": "code",
   "execution_count": 8,
   "id": "673b0e3f",
   "metadata": {},
   "outputs": [
    {
     "name": "stderr",
     "output_type": "stream",
     "text": [
      "C:\\Users\\Noor Saeed\\AppData\\Local\\Temp\\ipykernel_11096\\2192768311.py:3: LangChainDeprecationWarning: Please see the migration guide at: https://python.langchain.com/docs/versions/migrating_memory/\n",
      "  summary_memory = ConversationSummaryMemory(llm=llm)\n"
     ]
    },
    {
     "name": "stdout",
     "output_type": "stream",
     "text": [
      "That's wonderful! Lahore is a vibrant city with a rich history and culture.  I have access to a vast amount of information about it, from its Mughal-era architecture like the Badshahi Mosque and the Lahore Fort, to its bustling food scene famous for its delicious street food like *paya*, *nihari*, and *halwa puri*.  I also know about its significant role in the history of the Punjab region and Pakistan.  Is there anything specific you'd like to know or talk about regarding Lahore? Perhaps you'd like to discuss your favorite aspects of the city, or maybe you have some questions about its current events, its art scene, or its people? I'm eager to hear more!\n",
      "You live in Lahore, Pakistan.  I know this because you told me earlier in our conversation.  I'm excited to be chatting with someone from such a vibrant and historically significant city!  Lahore has so much to offer, from the majestic Badshahi Mosque and the impressive Lahore Fort, to the delicious street food and the bustling Anarkali Bazaar.  Is there anything specific about Lahore you'd like to discuss? Perhaps your favorite neighborhood, a recent event you attended, or your thoughts on the city's unique cultural blend?\n"
     ]
    }
   ],
   "source": [
    "from langchain.memory import ConversationSummaryMemory\n",
    "\n",
    "summary_memory = ConversationSummaryMemory(llm=llm)\n",
    "conversation = ConversationChain(llm=llm, memory=summary_memory)\n",
    "\n",
    "print(conversation.predict(input=\"I live in Lahore.\"))\n",
    "print(conversation.predict(input=\"What city do I live in?\"))"
   ]
  },
  {
   "cell_type": "markdown",
   "id": "e5ecc06f",
   "metadata": {},
   "source": [
    "# 4. ConversationKGMemory\n",
    "\n",
    "Definition: Extracts and stores facts as a knowledge graph (entities + relationships).\n",
    "\n",
    "When to use: Use when tracking structured facts/relationships is important (e.g., character interactions)."
   ]
  },
  {
   "cell_type": "code",
   "execution_count": 10,
   "id": "f6c9b6a7",
   "metadata": {},
   "outputs": [
    {
     "name": "stdout",
     "output_type": "stream",
     "text": [
      "Okay, I understand that Alice is Bob's sister.  This tells me a few things based on my general knowledge:\n",
      "\n",
      "* **Family Relationship:** Alice and Bob share at least one parent.  They could be full siblings (sharing both parents) or half-siblings (sharing one parent).  I don't have enough information to determine which.\n",
      "* **Gender:** Alice is female, and Bob is male (assuming common naming conventions).  However, this is an assumption and could be incorrect.\n",
      "* **Potential Implications:**  This relationship implies a certain level of shared history, potential for closeness or conflict, and possibly shared family traditions or experiences.  Their ages could vary greatly.\n",
      "\n",
      "That's all I can infer from the simple statement \"Alice is Bob's sister.\"  Do you have any other information about Alice or Bob you'd like to share?  Perhaps their ages, where they live, or something about their personalities?  I'm eager to learn more!\n"
     ]
    }
   ],
   "source": [
    "from langchain.memory import ConversationKGMemory\n",
    "\n",
    "kg_memory = ConversationKGMemory(llm=llm)\n",
    "conversation = ConversationChain(llm=llm, memory=kg_memory)\n",
    "\n",
    "print(conversation.predict(input=\"Alice is Bob's sister.\"))"
   ]
  },
  {
   "cell_type": "code",
   "execution_count": 11,
   "id": "334f4ebd",
   "metadata": {},
   "outputs": [
    {
     "name": "stdout",
     "output_type": "stream",
     "text": [
      "AI:  I do not know who Bob's sister is.  I have no information about a person named Bob in my current context. To answer your question, I would need additional information about Bob, such as his family history or biographical details.  Perhaps you could tell me more about Bob?  For example, is this Bob from your family?  Or is he a character in a book or movie?  Knowing the source would help me find the answer.\n"
     ]
    }
   ],
   "source": [
    "print(conversation.predict(input=\"Who is Bob's sister?\"))"
   ]
  },
  {
   "cell_type": "markdown",
   "id": "d3771975",
   "metadata": {},
   "source": [
    "# 5. VectorStoreRetrieverMemory\n",
    "\n",
    "Definition: Stores conversation chunks in a vector database and retrieves relevant parts.\n",
    "\n",
    "When to use: Use when conversations are very long and you want retrieval-based memory."
   ]
  },
  {
   "cell_type": "code",
   "execution_count": null,
   "id": "7fb2421b",
   "metadata": {},
   "outputs": [],
   "source": [
    "from langchain.memory import VectorStoreRetrieverMemory\n",
    "from langchain.vectorstores import FAISS\n",
    "from langchain.embeddings import OpenAIEmbeddings\n",
    "\n",
    "# Create vector store\n",
    "embeddings = OpenAIEmbeddings()\n",
    "vectorstore = FAISS.from_texts([\"dummy\"], embeddings)\n",
    "retriever = vectorstore.as_retriever()\n",
    "\n",
    "# Memory with retriever\n",
    "vs_memory = VectorStoreRetrieverMemory(retriever=retriever)\n",
    "conversation = ConversationChain(llm=llm, memory=vs_memory)\n",
    "\n",
    "print(conversation.predict(input=\"I love cricket.\"))\n",
    "print(conversation.predict(input=\"What sport do I love?\"))\n"
   ]
  },
  {
   "cell_type": "code",
   "execution_count": null,
   "id": "b11b84ee",
   "metadata": {},
   "outputs": [],
   "source": []
  },
  {
   "cell_type": "code",
   "execution_count": null,
   "id": "9a42d9a6",
   "metadata": {},
   "outputs": [],
   "source": []
  }
 ],
 "metadata": {
  "kernelspec": {
   "display_name": "myenv",
   "language": "python",
   "name": "python3"
  },
  "language_info": {
   "codemirror_mode": {
    "name": "ipython",
    "version": 3
   },
   "file_extension": ".py",
   "mimetype": "text/x-python",
   "name": "python",
   "nbconvert_exporter": "python",
   "pygments_lexer": "ipython3",
   "version": "3.11.1"
  }
 },
 "nbformat": 4,
 "nbformat_minor": 5
}
