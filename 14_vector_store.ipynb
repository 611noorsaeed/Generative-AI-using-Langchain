{
 "cells": [
  {
   "cell_type": "markdown",
   "id": "115b4ad2",
   "metadata": {},
   "source": [
    "# 1. FAISS (Facebook AI Similarity Search)\n",
    "\n",
    "Definition: An open-source library for efficient similarity search and clustering of dense vectors.\n",
    "\n",
    "\n",
    "When to use: Ideal for local/offline projects where you need fast in-memory search without external services."
   ]
  },
  {
   "cell_type": "code",
   "execution_count": 13,
   "id": "c5828309",
   "metadata": {},
   "outputs": [],
   "source": [
    "from langchain.vectorstores import FAISS\n",
    "from langchain_community.embeddings import HuggingFaceEmbeddings\n",
    "\n",
    "# 1. Documents\n",
    "docs = [\n",
    "    \"LangChain helps developers build applications with LLMs.\",\n",
    "    \"Vector databases like FAISS are used for semantic search locally.\",\n",
    "    \"HuggingFace embeddings convert text into numerical vectors.\",\n",
    "    \"Python is programming language used for AI development\",\n",
    "    \"AI is the field of CS that replicate human intelligence\"\n",
    "]\n",
    "\n",
    "# 2. Embeddings\n",
    "embeddings = HuggingFaceEmbeddings(model_name=\"sentence-transformers/all-MiniLM-L6-v2\")"
   ]
  },
  {
   "cell_type": "code",
   "execution_count": 14,
   "id": "b2e782da",
   "metadata": {},
   "outputs": [],
   "source": [
    "# 3. Store docs in FAISS\n",
    "docsearch = FAISS.from_texts(docs, embeddings)"
   ]
  },
  {
   "cell_type": "code",
   "execution_count": 15,
   "id": "dd479157",
   "metadata": {},
   "outputs": [
    {
     "name": "stdout",
     "output_type": "stream",
     "text": [
      " Query: What is LangChain?\n",
      "1. LangChain helps developers build applications with LLMs.\n",
      "2. Python is programming language used for AI development\n"
     ]
    }
   ],
   "source": [
    "# 4. Query\n",
    "query = \"What is LangChain?\"\n",
    "results = docsearch.similarity_search(query, k=2)\n",
    "print(\" Query:\", query)\n",
    "for idx, r in enumerate(results, 1):\n",
    "    print(f\"{idx}. {r.page_content}\")"
   ]
  },
  {
   "cell_type": "code",
   "execution_count": 16,
   "id": "0ef0dd06",
   "metadata": {},
   "outputs": [
    {
     "name": "stdout",
     "output_type": "stream",
     "text": [
      " Query: What is python\n",
      "1. Python is programming language used for AI development\n",
      "2. AI is the field of CS that replicate human intelligence\n"
     ]
    }
   ],
   "source": [
    "# 4. Query\n",
    "query = \"What is python\"\n",
    "results = docsearch.similarity_search(query, k=2)\n",
    "print(\" Query:\", query)\n",
    "for idx, r in enumerate(results, 1):\n",
    "    print(f\"{idx}. {r.page_content}\")"
   ]
  }
 ],
 "metadata": {
  "kernelspec": {
   "display_name": "myenv",
   "language": "python",
   "name": "python3"
  },
  "language_info": {
   "codemirror_mode": {
    "name": "ipython",
    "version": 3
   },
   "file_extension": ".py",
   "mimetype": "text/x-python",
   "name": "python",
   "nbconvert_exporter": "python",
   "pygments_lexer": "ipython3",
   "version": "3.11.1"
  }
 },
 "nbformat": 4,
 "nbformat_minor": 5
}
