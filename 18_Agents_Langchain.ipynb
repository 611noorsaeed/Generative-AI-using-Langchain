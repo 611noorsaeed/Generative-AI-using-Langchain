{
 "cells": [
  {
   "cell_type": "markdown",
   "id": "735d1bf6",
   "metadata": {},
   "source": [
    "# Creating A simple Agent"
   ]
  },
  {
   "cell_type": "markdown",
   "id": "3349b4b3",
   "metadata": {},
   "source": [
    "# 1. Define LLM"
   ]
  },
  {
   "cell_type": "code",
   "execution_count": 2,
   "id": "c0ce1ca9",
   "metadata": {},
   "outputs": [],
   "source": [
    "from langchain_google_genai import ChatGoogleGenerativeAI\n",
    "from langchain.agents import initialize_agent, Tool\n",
    "from langchain.agents import AgentType\n",
    "from dotenv import load_dotenv \n",
    "import os \n",
    "\n",
    "# configures\n",
    "load_dotenv()\n",
    "llm = ChatGoogleGenerativeAI(model=\"gemini-2.5-flash\", google_api_key=os.getenv(\"GOOGLE_API_KEY\"))"
   ]
  },
  {
   "cell_type": "markdown",
   "id": "2c2e05b2",
   "metadata": {},
   "source": [
    "# 2. Define Custom Tools\n"
   ]
  },
  {
   "cell_type": "code",
   "execution_count": 4,
   "id": "b825da26",
   "metadata": {},
   "outputs": [],
   "source": [
    "def get_weather(city: str) -> str:\n",
    "    response = f\"The weather in {city} is sunny, 25°C.\"\n",
    "    return response"
   ]
  },
  {
   "cell_type": "markdown",
   "id": "090dca31",
   "metadata": {},
   "source": [
    "# 3. Create tool list"
   ]
  },
  {
   "cell_type": "code",
   "execution_count": 5,
   "id": "10558d97",
   "metadata": {},
   "outputs": [],
   "source": [
    "tools = [\n",
    "    Tool(\n",
    "        name=\"Weather\",\n",
    "        func=get_weather,\n",
    "        description=\"Use this tool to get the weather of a given city\"\n",
    "    )\n",
    "]"
   ]
  },
  {
   "cell_type": "markdown",
   "id": "b69fdc7b",
   "metadata": {},
   "source": [
    "# 4. Initialize agent"
   ]
  },
  {
   "cell_type": "code",
   "execution_count": 6,
   "id": "f007928d",
   "metadata": {},
   "outputs": [
    {
     "name": "stderr",
     "output_type": "stream",
     "text": [
      "C:\\Users\\Noor Saeed\\AppData\\Local\\Temp\\ipykernel_19116\\2403052513.py:1: LangChainDeprecationWarning: LangChain agents will continue to be supported, but it is recommended for new use cases to be built with LangGraph. LangGraph offers a more flexible and full-featured framework for building agents, including support for tool-calling, persistence of state, and human-in-the-loop workflows. For details, refer to the `LangGraph documentation <https://langchain-ai.github.io/langgraph/>`_ as well as guides for `Migrating from AgentExecutor <https://python.langchain.com/docs/how_to/migrate_agent/>`_ and LangGraph's `Pre-built ReAct agent <https://langchain-ai.github.io/langgraph/how-tos/create-react-agent/>`_.\n",
      "  agent = initialize_agent(\n"
     ]
    }
   ],
   "source": [
    "agent = initialize_agent(\n",
    "    tools=tools,\n",
    "    llm=llm,\n",
    "    agent=AgentType.ZERO_SHOT_REACT_DESCRIPTION,  # lets LLM decide when to call tools\n",
    "    verbose=True\n",
    ")"
   ]
  },
  {
   "cell_type": "markdown",
   "id": "1fc0db3a",
   "metadata": {},
   "source": [
    "#  5. Run query\n"
   ]
  },
  {
   "cell_type": "code",
   "execution_count": 7,
   "id": "e3b7c72b",
   "metadata": {},
   "outputs": [
    {
     "name": "stderr",
     "output_type": "stream",
     "text": [
      "C:\\Users\\Noor Saeed\\AppData\\Local\\Temp\\ipykernel_19116\\2716904819.py:1: LangChainDeprecationWarning: The method `Chain.run` was deprecated in langchain 0.1.0 and will be removed in 1.0. Use :meth:`~invoke` instead.\n",
      "  response = agent.run(\"What's the weather in New York?\")\n"
     ]
    },
    {
     "name": "stdout",
     "output_type": "stream",
     "text": [
      "\n",
      "\n",
      "\u001b[1m> Entering new AgentExecutor chain...\u001b[0m\n",
      "\u001b[32;1m\u001b[1;3mAction: Weather\n",
      "Action Input: New York\u001b[0m\n",
      "Observation: \u001b[36;1m\u001b[1;3mThe weather in New York is sunny, 25°C.\u001b[0m\n",
      "Thought:\u001b[32;1m\u001b[1;3mFinal Answer: The weather in New York is sunny, 25°C.\u001b[0m\n",
      "\n",
      "\u001b[1m> Finished chain.\u001b[0m\n",
      "The weather in New York is sunny, 25°C.\n"
     ]
    }
   ],
   "source": [
    "response = agent.run(\"What's the weather in New York?\")\n",
    "print(response)"
   ]
  },
  {
   "cell_type": "code",
   "execution_count": null,
   "id": "3dc27340",
   "metadata": {},
   "outputs": [],
   "source": [
    "response = agent.run(\"What's the weather in New York?\")\n",
    "print(response)"
   ]
  },
  {
   "cell_type": "markdown",
   "id": "85496b21",
   "metadata": {},
   "source": [
    "# Working With Multiple Tools"
   ]
  },
  {
   "cell_type": "code",
   "execution_count": 10,
   "id": "9741e696",
   "metadata": {},
   "outputs": [],
   "source": [
    "# Tool 1: Weather\n",
    "def get_weather(city: str) -> str:\n",
    "    # Dummy weather details\n",
    "    condition = \"Sunny\"\n",
    "    temperature = \"25°C\"\n",
    "    humidity = \"60%\"\n",
    "    wind = \"12 km/h\"\n",
    "    air_quality = \"Good (AQI 45)\"\n",
    "    uv_index = \"Moderate (5)\"\n",
    "    \n",
    "    return (\n",
    "        f\"Weather Report for {city}:\\n\"\n",
    "        f\"- Condition: {condition}\\n\"\n",
    "        f\"- Temperature: {temperature}\\n\"\n",
    "        f\"- Humidity: {humidity}\\n\"\n",
    "        f\"- Wind: {wind}\\n\"\n",
    "        f\"- Air Quality: {air_quality}\\n\"\n",
    "        f\"- UV Index: {uv_index}\"\n",
    "    )\n",
    "\n",
    "\n",
    "weather_tool = Tool(\n",
    "    name=\"Weather\",\n",
    "    func=get_weather,\n",
    "    description=\"Get the current weather of a city.\"\n",
    ")"
   ]
  },
  {
   "cell_type": "code",
   "execution_count": 12,
   "id": "5065913a",
   "metadata": {},
   "outputs": [],
   "source": [
    "# Tool 2: Database query (example)\n",
    "def query_database(query: str) -> str:\n",
    "    # Dummy metadata\n",
    "    execution_time = \"0.023s\"\n",
    "    rows_returned = 3\n",
    "    \n",
    "    # Dummy table rows\n",
    "    results = [\n",
    "        {\"id\": 1, \"name\": \"Alice\", \"age\": 29, \"city\": \"Paris\"},\n",
    "        {\"id\": 2, \"name\": \"Bob\", \"age\": 34, \"city\": \"London\"},\n",
    "        {\"id\": 3, \"name\": \"Charlie\", \"age\": 41, \"city\": \"New York\"},\n",
    "    ]\n",
    "    \n",
    "    # Format results\n",
    "    rows_text = \"\\n\".join(\n",
    "        [f\"- ID: {r['id']}, Name: {r['name']}, Age: {r['age']}, City: {r['city']}\" for r in results]\n",
    "    )\n",
    "    \n",
    "    return (\n",
    "        f\"Query executed: {query}\\n\"\n",
    "        f\"Execution time: {execution_time}\\n\"\n",
    "        f\"Rows returned: {rows_returned}\\n\"\n",
    "        f\"Results:\\n{rows_text}\"\n",
    "    )\n",
    "\n",
    "\n",
    "database_tool = Tool(\n",
    "    name=\"Database\",\n",
    "    func=query_database,\n",
    "    description=\"Use this tool to query the internal database.\"\n",
    ")"
   ]
  },
  {
   "cell_type": "code",
   "execution_count": null,
   "id": "0f383424",
   "metadata": {},
   "outputs": [],
   "source": [
    "# Tool 3: Web Search Tool\n",
    "def web_search(query: str) -> str:\n",
    "    # Dummy data dictionary\n",
    "    dummy_results = {\n",
    "        \"Python tutorials\": [\n",
    "            \"Learn Python: Official Python Tutorial\",\n",
    "            \"Python for Beginners - W3Schools\",\n",
    "            \"Python Crash Course - freeCodeCamp\"\n",
    "        ],\n",
    "        \"AI news\": [\n",
    "            \"Latest AI breakthroughs - TechCrunch\",\n",
    "            \"AI in 2025: What's coming next? - Wired\",\n",
    "            \"OpenAI releases GPT-5 updates - The Verge\"\n",
    "        ],\n",
    "        \"New York weather\": [\n",
    "            \"Weather in New York: Sunny, 25°C\",\n",
    "            \"New York forecast: High 27°C, Low 19°C\",\n",
    "            \"NYC weather updates today - Weather.com\"\n",
    "        ]\n",
    "    }\n",
    "    \n",
    "    # Return dummy results if available, else a default message\n",
    "    results = dummy_results.get(query, [f\"No dummy results found for '{query}'\"])\n",
    "    \n",
    "    # Format the results nicely\n",
    "    formatted_results = \"\\n\".join([f\"{i+1}. {r}\" for i, r in enumerate(results)])\n",
    "    return f\"Top search results for '{query}':\\n{formatted_results}\"\n",
    "\n",
    "# Define the tool\n",
    "web_tool = Tool(\n",
    "    name=\"WebSearch\",\n",
    "    func=web_search,\n",
    "    description=\"Use this tool to search the web for information (dummy data).\"\n",
    ")\n"
   ]
  },
  {
   "cell_type": "code",
   "execution_count": 13,
   "id": "2ee8a7f1",
   "metadata": {},
   "outputs": [],
   "source": [
    "# List of tools\n",
    "tools = [weather_tool, database_tool, web_tool]"
   ]
  },
  {
   "cell_type": "code",
   "execution_count": 14,
   "id": "752ccb3b",
   "metadata": {},
   "outputs": [],
   "source": [
    "# Initialize the agent\n",
    "agent = initialize_agent(\n",
    "    tools=tools,\n",
    "    llm=llm,  \n",
    "    agent=AgentType.ZERO_SHOT_REACT_DESCRIPTION,\n",
    "    verbose=True\n",
    ")"
   ]
  },
  {
   "cell_type": "code",
   "execution_count": 15,
   "id": "61e3505e",
   "metadata": {},
   "outputs": [
    {
     "name": "stdout",
     "output_type": "stream",
     "text": [
      "\n",
      "\n",
      "\u001b[1m> Entering new AgentExecutor chain...\u001b[0m\n",
      "\u001b[32;1m\u001b[1;3mAction: Weather\n",
      "Action Input: New York\u001b[0m\n",
      "Observation: \u001b[36;1m\u001b[1;3mWeather Report for New York:\n",
      "- Condition: Sunny\n",
      "- Temperature: 25°C\n",
      "- Humidity: 60%\n",
      "- Wind: 12 km/h\n",
      "- Air Quality: Good (AQI 45)\n",
      "- UV Index: Moderate (5)\u001b[0m\n",
      "Thought:\u001b[32;1m\u001b[1;3mAction: WebSearch\n",
      "Action Input: Python tutorials\u001b[0m\n",
      "Observation: \u001b[38;5;200m\u001b[1;3mTop search results for 'Python tutorials':\n",
      "1. Learn Python: Official Python Tutorial\n",
      "2. Python for Beginners - W3Schools\n",
      "3. Python Crash Course - freeCodeCamp\u001b[0m\n",
      "Thought:\u001b[32;1m\u001b[1;3mI now know the final answer\n",
      "Final Answer: The weather in New York is sunny with a temperature of 25°C, 60% humidity, and 12 km/h wind. The air quality is good (AQI 45) and the UV index is moderate (5). For Python tutorials, you can check out the Official Python Tutorial, W3Schools' Python for Beginners, or freeCodeCamp's Python Crash Course.\u001b[0m\n",
      "\n",
      "\u001b[1m> Finished chain.\u001b[0m\n",
      "The weather in New York is sunny with a temperature of 25°C, 60% humidity, and 12 km/h wind. The air quality is good (AQI 45) and the UV index is moderate (5). For Python tutorials, you can check out the Official Python Tutorial, W3Schools' Python for Beginners, or freeCodeCamp's Python Crash Course.\n"
     ]
    }
   ],
   "source": [
    "# Run the agent\n",
    "response = agent.run(\"What's the weather in New York and also search for Python tutorials?\")\n",
    "print(response)"
   ]
  },
  {
   "cell_type": "code",
   "execution_count": 16,
   "id": "8439fc8f",
   "metadata": {},
   "outputs": [
    {
     "name": "stdout",
     "output_type": "stream",
     "text": [
      "\n",
      "\n",
      "\u001b[1m> Entering new AgentExecutor chain...\u001b[0m\n",
      "\u001b[32;1m\u001b[1;3mAction: Database\n",
      "Action Input: SELECT * FROM employees\u001b[0m\n",
      "Observation: \u001b[33;1m\u001b[1;3mQuery executed: SELECT * FROM employees\n",
      "Execution time: 0.023s\n",
      "Rows returned: 3\n",
      "Results:\n",
      "- ID: 1, Name: Alice, Age: 29, City: Paris\n",
      "- ID: 2, Name: Bob, Age: 34, City: London\n",
      "- ID: 3, Name: Charlie, Age: 41, City: New York\u001b[0m\n",
      "Thought:\u001b[32;1m\u001b[1;3mI now know the final answer\n",
      "Final Answer: I have queried the employees table. The results are:\n",
      "- ID: 1, Name: Alice, Age: 29, City: Paris\n",
      "- ID: 2, Name: Bob, Age: 34, City: London\n",
      "- ID: 3, Name: Charlie, Age: 41, City: New York\u001b[0m\n",
      "\n",
      "\u001b[1m> Finished chain.\u001b[0m\n",
      "I have queried the employees table. The results are:\n",
      "- ID: 1, Name: Alice, Age: 29, City: Paris\n",
      "- ID: 2, Name: Bob, Age: 34, City: London\n",
      "- ID: 3, Name: Charlie, Age: 41, City: New York\n"
     ]
    }
   ],
   "source": [
    "response = agent.run(\"Query the employees table\")\n",
    "print(response)"
   ]
  },
  {
   "cell_type": "code",
   "execution_count": null,
   "id": "7833747c",
   "metadata": {},
   "outputs": [],
   "source": []
  }
 ],
 "metadata": {
  "kernelspec": {
   "display_name": "myenv",
   "language": "python",
   "name": "python3"
  },
  "language_info": {
   "codemirror_mode": {
    "name": "ipython",
    "version": 3
   },
   "file_extension": ".py",
   "mimetype": "text/x-python",
   "name": "python",
   "nbconvert_exporter": "python",
   "pygments_lexer": "ipython3",
   "version": "3.11.1"
  }
 },
 "nbformat": 4,
 "nbformat_minor": 5
}
