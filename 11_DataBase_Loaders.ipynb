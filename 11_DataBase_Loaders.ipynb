{
 "cells": [
  {
   "cell_type": "markdown",
   "id": "78f9f604",
   "metadata": {},
   "source": [
    "# DataBase Loaders"
   ]
  },
  {
   "cell_type": "markdown",
   "id": "46254ee9",
   "metadata": {},
   "source": [
    "1. SQLDatabaseLoader\n",
    "\n",
    "Definition:\n",
    "A loader that connects to SQL databases (Postgres, MySQL, SQLite, etc.) and extracts table rows into documents for use with LLMs.\n",
    "\n",
    "Usage:\n",
    "Use this when you want to bring raw SQL database content into LangChain for retrieval or fine-tuning.\n",
    "\n",
    "Parameters:\n",
    "\n",
    "sql_database: SQLAlchemy SQLDatabase object\n",
    "\n",
    "query: SQL query (string) to fetch data\n",
    "\n",
    "Code Example:"
   ]
  },
  {
   "cell_type": "markdown",
   "id": "b5ff4901",
   "metadata": {},
   "source": [
    "## First Create SQLite DB"
   ]
  },
  {
   "cell_type": "code",
   "execution_count": 18,
   "id": "9c7e3699",
   "metadata": {},
   "outputs": [],
   "source": [
    "import sqlite3\n",
    "\n",
    "\n",
    "conn = sqlite3.connect(\"11_sqlite_db.db\")\n",
    "cursor = conn.cursor()\n",
    "\n",
    "# Create table\n",
    "cursor.execute(\"\"\"\n",
    "CREATE TABLE IF NOT EXISTS customers (\n",
    "    id INTEGER PRIMARY KEY AUTOINCREMENT,\n",
    "    name TEXT NOT NULL,\n",
    "    age INTEGER,\n",
    "    income REAL,\n",
    "    spending_score INTEGER\n",
    ");\n",
    "\"\"\")\n",
    "\n",
    "# Insert dummy data\n",
    "dummy_customers = [\n",
    "    (\"Ali\", 25, 30000, 45),\n",
    "    (\"Sara\", 32, 60000, 80),\n",
    "    (\"Ahmed\", 40, 120000, 20),\n",
    "    (\"Ayesha\", 29, 45000, 60),\n",
    "    (\"Bilal\", 50, 90000, 30)\n",
    "]\n",
    "cursor.executemany(\"INSERT INTO customers (name, age, income, spending_score) VALUES (?, ?, ?, ?);\", dummy_customers)\n",
    "\n",
    "conn.commit()\n",
    "conn.close()"
   ]
  },
  {
   "cell_type": "markdown",
   "id": "7887f26e",
   "metadata": {},
   "source": [
    "### Now Load With SQLDatabaseLoader"
   ]
  },
  {
   "cell_type": "code",
   "execution_count": 19,
   "id": "f45f8439",
   "metadata": {},
   "outputs": [
    {
     "name": "stdout",
     "output_type": "stream",
     "text": [
      "id: 1\n",
      "name: Ali\n",
      "age: 25\n",
      "income: 30000.0\n",
      "spending_score: 45\n",
      "id: 2\n",
      "name: Sara\n",
      "age: 32\n",
      "income: 60000.0\n",
      "spending_score: 80\n",
      "id: 3\n",
      "name: Ahmed\n",
      "age: 40\n",
      "income: 120000.0\n",
      "spending_score: 20\n",
      "id: 4\n",
      "name: Ayesha\n",
      "age: 29\n",
      "income: 45000.0\n",
      "spending_score: 60\n",
      "id: 5\n",
      "name: Bilal\n",
      "age: 50\n",
      "income: 90000.0\n",
      "spending_score: 30\n",
      "id: 6\n",
      "name: Ali\n",
      "age: 25\n",
      "income: 30000.0\n",
      "spending_score: 45\n",
      "id: 7\n",
      "name: Sara\n",
      "age: 32\n",
      "income: 60000.0\n",
      "spending_score: 80\n",
      "id: 8\n",
      "name: Ahmed\n",
      "age: 40\n",
      "income: 120000.0\n",
      "spending_score: 20\n",
      "id: 9\n",
      "name: Ayesha\n",
      "age: 29\n",
      "income: 45000.0\n",
      "spending_score: 60\n",
      "id: 10\n",
      "name: Bilal\n",
      "age: 50\n",
      "income: 90000.0\n",
      "spending_score: 30\n"
     ]
    }
   ],
   "source": [
    "from langchain_community.document_loaders import SQLDatabaseLoader\n",
    "from langchain_community.utilities import SQLDatabase\n",
    "\n",
    "# Step 1: Connect to your existing DB \n",
    "db = SQLDatabase.from_uri(\"sqlite:///11_sqlite_db.db\")\n",
    "\n",
    "# Step 2: Load data with SQLDatabaseLoader\n",
    "loader = SQLDatabaseLoader(db=db,  query=\"SELECT * FROM customers;\")\n",
    "\n",
    "docs = loader.load()\n",
    "\n",
    "# Step 3: Print results \n",
    "for doc in docs:\n",
    "    print(doc.page_content)"
   ]
  },
  {
   "cell_type": "markdown",
   "id": "f329d96c",
   "metadata": {},
   "source": [
    "# 2. MongoDBLoader\n",
    "\n",
    "Definition:\n",
    "A loader that connects to MongoDB collections and converts documents into LangChain Document objects.\n",
    "\n",
    "Usage:\n",
    "Use this when working with NoSQL (document-oriented) databases like MongoDB.\n",
    "\n",
    "Parameters:\n",
    "\n",
    "connection_string: MongoDB URI\n",
    "\n",
    "db_name: Database name\n",
    "\n",
    "collection_name: Collection to load documents from\n",
    "\n",
    "filter: (optional) MongoDB filter query\n",
    "\n",
    "Code Example:"
   ]
  },
  {
   "cell_type": "markdown",
   "id": "b23ff34d",
   "metadata": {},
   "source": [
    "# First Create Mongo DB"
   ]
  },
  {
   "cell_type": "code",
   "execution_count": 20,
   "id": "81aaed65",
   "metadata": {},
   "outputs": [
    {
     "name": "stdout",
     "output_type": "stream",
     "text": [
      "MongoDB test database created with dummy customers.\n"
     ]
    }
   ],
   "source": [
    "from pymongo import MongoClient\n",
    "\n",
    "#  Step 1: Connect to MongoDB \n",
    "client = MongoClient(\"mongodb://localhost:27017/\")\n",
    "\n",
    "#  Step 2: Create database and collection \n",
    "db = client[\"testdb\"]\n",
    "collection = db[\"customers\"]\n",
    "\n",
    "#  Step 3: Insert dummy data \n",
    "dummy_customers = [\n",
    "    {\"name\": \"Ali\", \"age\": 25, \"income\": 30000, \"status\": \"active\"},\n",
    "    {\"name\": \"Sara\", \"age\": 32, \"income\": 60000, \"status\": \"active\"},\n",
    "    {\"name\": \"Ahmed\", \"age\": 40, \"income\": 120000, \"status\": \"inactive\"},\n",
    "    {\"name\": \"Ayesha\", \"age\": 29, \"income\": 45000, \"status\": \"active\"},\n",
    "    {\"name\": \"Bilal\", \"age\": 50, \"income\": 90000, \"status\": \"inactive\"}\n",
    "]\n",
    "\n",
    "collection.insert_many(dummy_customers)\n",
    "\n",
    "print(\"MongoDB test database created with dummy customers.\")\n"
   ]
  },
  {
   "cell_type": "markdown",
   "id": "2be13f6d",
   "metadata": {},
   "source": [
    "# Load Data Using MongodbLoader"
   ]
  },
  {
   "cell_type": "code",
   "execution_count": null,
   "id": "dea59406",
   "metadata": {},
   "outputs": [
    {
     "name": "stdout",
     "output_type": "stream",
     "text": [
      "Content: Ali 25 30000 active\n",
      "Content: Sara 32 60000 active\n",
      "Content: Ahmed 40 120000 inactive\n",
      "Content: Ayesha 29 45000 active\n",
      "Content: Bilal 50 90000 inactive\n",
      "Content: Ali 25 30000 active\n",
      "Content: Sara 32 60000 active\n",
      "Content: Ahmed 40 120000 inactive\n",
      "Content: Ayesha 29 45000 active\n",
      "Content: Bilal 50 90000 inactive\n"
     ]
    }
   ],
   "source": [
    "from langchain_community.document_loaders.mongodb import MongodbLoader\n",
    "\n",
    "loader = MongodbLoader(\n",
    "    connection_string=\"mongodb://localhost:27017/\",\n",
    "    db_name=\"testdb\",\n",
    "    collection_name=\"customers\",\n",
    "    field_names=[\"name\", \"age\", \"income\", \"status\"] \n",
    ")\n",
    "\n",
    "docs = loader.load()\n",
    "\n",
    "for doc in docs:\n",
    "    print(\"Content:\", doc.page_content)"
   ]
  },
  {
   "cell_type": "code",
   "execution_count": null,
   "id": "244fc842",
   "metadata": {},
   "outputs": [],
   "source": []
  }
 ],
 "metadata": {
  "kernelspec": {
   "display_name": "myenv",
   "language": "python",
   "name": "python3"
  },
  "language_info": {
   "codemirror_mode": {
    "name": "ipython",
    "version": 3
   },
   "file_extension": ".py",
   "mimetype": "text/x-python",
   "name": "python",
   "nbconvert_exporter": "python",
   "pygments_lexer": "ipython3",
   "version": "3.11.1"
  }
 },
 "nbformat": 4,
 "nbformat_minor": 5
}
