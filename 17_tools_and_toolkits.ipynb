{
 "cells": [
  {
   "cell_type": "markdown",
   "id": "bb81c547",
   "metadata": {},
   "source": [
    "# DuckDuckGoSearchRun\n",
    "\n",
    "Definition: Performs live web searches using DuckDuckGo.\n",
    "\n",
    "When to use: If you need real-time search results without Google/SerpAPI.\n",
    "\n",
    "\n",
    "pip install -U duckduckgo-search\n",
    "\n",
    "pip install duckduckgo-search==4.1.1\n",
    "\n"
   ]
  },
  {
   "cell_type": "code",
   "execution_count": 52,
   "id": "cbef2d0d",
   "metadata": {},
   "outputs": [
    {
     "name": "stderr",
     "output_type": "stream",
     "text": [
      "d:\\UR,Complete Data Science,Machine Learning,DL,NLP, CV, LLM, Genai Bootcamp\\Generative AI Using Langchain\\myenv\\Lib\\site-packages\\langchain_community\\utilities\\duckduckgo_search.py:63: RuntimeWarning: This package (`duckduckgo_search`) has been renamed to `ddgs`! Use `pip install ddgs` instead.\n",
      "  with DDGS() as ddgs:\n"
     ]
    },
    {
     "name": "stdout",
     "output_type": "stream",
     "text": [
      "Aug 22, 2025 · What is biology? Biology is a branch of science that deals with living organisms and their vital processes. Biology encompasses diverse fields, including botany, conservation, … Biology is the scientific study of life and living organisms. It is a broad natural science that encompasses a wide range of fields and unifying principles that explain the structure, function, … May 26, 2022 · Biology is the branch of science that primarily deals with structure, function, growth, evolution, and distribution of organisms. Find out more about biology definition, principles, … Feb 2, 2022 · Biology is the study of life. The word \"biology\" is derived from the Greek words \"bios\" (meaning life) and \"logos\" (meaning \"study\"). In general, biologists study the structure, function, … Mar 26, 2024 · Biology, as one of the fundamental branches of science, offers an intricate understanding of life and living organisms. It explores the structure, function, growth, evolution, …\n"
     ]
    }
   ],
   "source": [
    "from langchain_community.tools import DuckDuckGoSearchRun\n",
    "from langchain_community.utilities import DuckDuckGoSearchAPIWrapper\n",
    "\n",
    "# Force backend = \"lite\" (avoids Bing)\n",
    "wrapper = DuckDuckGoSearchAPIWrapper(backend=\"lite\")\n",
    "search = DuckDuckGoSearchRun(api_wrapper=wrapper)\n",
    "\n",
    "print(search.run(\"What is Biology\"))"
   ]
  },
  {
   "cell_type": "markdown",
   "id": "0261fbfc",
   "metadata": {},
   "source": [
    "# YouTubeSearchTool\n",
    "\n",
    "Definition: Searches YouTube videos and retrieves metadata.\n",
    "\n",
    "When to use: For video search, recommendations, or trend analysis.\n",
    "\n",
    "\n",
    "pip install youtube-search\n"
   ]
  },
  {
   "cell_type": "code",
   "execution_count": null,
   "id": "61dafc84",
   "metadata": {},
   "outputs": [
    {
     "name": "stdout",
     "output_type": "stream",
     "text": [
      "['https://www.youtube.com/watch?v=nAmC7SoVLd8&pp=ygUSTGFuZ0NoYWluIHR1dG9yaWFs', 'https://www.youtube.com/watch?v=aywZrzNaKjs&pp=ygUSTGFuZ0NoYWluIHR1dG9yaWFs0gcJCesJAYcqIYzv']\n"
     ]
    }
   ],
   "source": [
    "from langchain_community.tools import YouTubeSearchTool\n",
    "\n",
    "yt = YouTubeSearchTool()\n",
    "\n",
    "print(yt.run(\"LangChain tutorial\"))"
   ]
  },
  {
   "cell_type": "code",
   "execution_count": null,
   "id": "2e6bbc81",
   "metadata": {},
   "outputs": [
    {
     "name": "stdout",
     "output_type": "stream",
     "text": [
      "['https://www.youtube.com/watch?v=XIR20HH8mNY&t=23s&pp=ygUad2hhdCBpcyBweXRob24gcHJvZ3JhbW1pbmc%3D', 'https://www.youtube.com/watch?v=Y8Tko2YC5hA&pp=ygUad2hhdCBpcyBweXRob24gcHJvZ3JhbW1pbmc%3D']\n"
     ]
    }
   ],
   "source": [
    "print(yt.run(\"what is python programming\"))"
   ]
  },
  {
   "cell_type": "markdown",
   "id": "bae01b16",
   "metadata": {},
   "source": [
    "# ArxivAPIWrapper\n",
    "\n",
    "Definition: Retrieves research paper metadata from arXiv.\n",
    "\n",
    "When to use: For academic research, ML/AI papers, or references.\n",
    "\n",
    "pip install arxiv"
   ]
  },
  {
   "cell_type": "code",
   "execution_count": 48,
   "id": "fddc481f",
   "metadata": {},
   "outputs": [
    {
     "name": "stderr",
     "output_type": "stream",
     "text": [
      "d:\\UR,Complete Data Science,Machine Learning,DL,NLP, CV, LLM, Genai Bootcamp\\Generative AI Using Langchain\\myenv\\Lib\\site-packages\\langchain_community\\utilities\\arxiv.py:105: DeprecationWarning: The 'Search.results' method is deprecated, use 'Client.results' instead\n",
      "  ).results()\n"
     ]
    },
    {
     "name": "stdout",
     "output_type": "stream",
     "text": [
      "Published: 2024-05-13\n",
      "Title: A Transformer with Stack Attention\n",
      "Authors: Jiaoda Li, Jennifer C. White, Mrinmaya Sachan, Ryan Cotterell\n",
      "Summary: Natural languages are believed to be (mildly) context-sensitive. Despite\n",
      "underpinning remarkably capable large language models, transformers are unable\n",
      "to model many context-free language tasks. In an attempt to address this\n",
      "limitation in the modeling power of transformer-based language models, we\n",
      "propose augmenting them with a differentiable, stack-based attention mechanism.\n",
      "Our stack-based attention mechanism can be incorporated into any\n",
      "transformer-based language model and adds a level of interpretability to the\n",
      "model. We show that the addition of our stack-based attention mechanism enables\n",
      "the transformer to model some, but not all, deterministic context-free\n",
      "languages.\n",
      "\n",
      "Published: 2015-11-17\n",
      "Title: Systematically Deriving Domain-Specific Transformation Languages\n",
      "Authors: Katrin Hölldobler, Bernhard Rumpe Ingo Weisemöller\n",
      "Summary: Model transformations are helpful to evolve, refactor, refine and maintain\n",
      "models. While domain-specific languages are normally intuitive for modelers,\n",
      "common model transformation approaches (regardless of whether they transform\n",
      "graphical or textual models) are based on the modeling language's abstract\n",
      "syntax requiring the modeler to learn the internal representation of the model\n",
      "to describe transformations. This paper presents a process that allows to\n",
      "systematically derive a textual domainspecific transformation language from the\n",
      "grammar of a given textual modeling language. As example, we apply this\n",
      "systematic derivation to UML class diagrams to obtain a domain-specific\n",
      "transformation language called CDTrans. CDTrans incorporates the concrete\n",
      "syntax of class diagrams which is already familiar to the modeler and extends\n",
      "it with a few transformation operators. To demonstrate the usefulness of the\n",
      "derived transformation language, we describe several refactoring\n",
      "transformations.\n",
      "\n",
      "Published: 2014-09-08\n",
      "Title: A Domain Specific Transformation Language\n",
      "Authors: Bernhard Rumpe, Ingo Weisemöller\n",
      "Summary: Domain specific languages (DSLs) allow domain experts to model parts of the\n",
      "system under development in a problem-oriented notation that is well-known in\n",
      "the respective domain. The introduction of a DSL is often accompanied the\n",
      "desire to transform its instances. Although the modeling language is domain\n",
      "specific, the transformation language used to describe modifications, such as\n",
      "model evolution or refactoring operations, on the underlying model, usually is\n",
      "a rather domain independent language nowadays. Most transformation languages\n",
      "use a generic notation of model patterns that is closely related to typed and\n",
      "attributed graphs or to object diagrams (the abstract syntax). A notation that\n",
      "reflects the transformed elements of the original DSL in its own concrete\n",
      "syntax would be strongly preferable, because it would be more comprehensible\n",
      "and easier to learn for domain experts. In this paper we present a\n",
      "transformation language that reuses the concrete syntax of a textual modeling\n",
      "language for hierarchical automata, which allows domain experts to describe\n",
      "models as well as modifications of models in a convenient, yet precise manner.\n",
      "As an outlook, we illustrate a scenario where we generate transformation\n",
      "languages from existing textual languages.\n"
     ]
    }
   ],
   "source": [
    "from langchain_community.utilities import ArxivAPIWrapper\n",
    "\n",
    "arxiv = ArxivAPIWrapper()\n",
    "print(arxiv.run(\"transformers language model\"))"
   ]
  },
  {
   "cell_type": "markdown",
   "id": "b0a96109",
   "metadata": {},
   "source": [
    "# OpenWeatherMapAPIWrapper\n",
    "\n",
    "Definition: Fetches weather data from OpenWeatherMap API.\n",
    "\n",
    "When to use: For agents needing weather forecasts or climate data.\n",
    "\n",
    "pip install pyowm\n",
    "\n",
    "Get API From HERE: https://home.openweathermap.org/api_keys\n"
   ]
  },
  {
   "cell_type": "code",
   "execution_count": null,
   "id": "7f1a9354",
   "metadata": {},
   "outputs": [
    {
     "name": "stdout",
     "output_type": "stream",
     "text": [
      "In Lahore, Pakistan, the current weather is as follows:\n",
      "Detailed status: smoke\n",
      "Wind speed: 3.09 m/s, direction: 230°\n",
      "Humidity: 65%\n",
      "Temperature: \n",
      "  - Current: 27.99°C\n",
      "  - High: 27.99°C\n",
      "  - Low: 27.99°C\n",
      "  - Feels like: 30.01°C\n",
      "Rain: {}\n",
      "Heat index: None\n",
      "Cloud cover: 0%\n"
     ]
    }
   ],
   "source": [
    "from langchain_community.utilities import OpenWeatherMapAPIWrapper\n",
    "\n",
    "weather = OpenWeatherMapAPIWrapper(openweathermap_api_key=\"API KEY (Totally Free)\") # go to openweather site, create api and paste here\n",
    "\n",
    "print(weather.run(\"Lahore, Pakistan\"))\n"
   ]
  },
  {
   "cell_type": "code",
   "execution_count": 7,
   "id": "b19cdb92",
   "metadata": {},
   "outputs": [
    {
     "name": "stdout",
     "output_type": "stream",
     "text": [
      "In Washington, USA, the current weather is as follows:\n",
      "Detailed status: clear sky\n",
      "Wind speed: 1.62 m/s, direction: 246°\n",
      "Humidity: 47%\n",
      "Temperature: \n",
      "  - Current: 16.67°C\n",
      "  - High: 18.65°C\n",
      "  - Low: 14.81°C\n",
      "  - Feels like: 15.62°C\n",
      "Rain: {}\n",
      "Heat index: None\n",
      "Cloud cover: 6%\n"
     ]
    }
   ],
   "source": [
    "print(weather.run(\"Washington, USA\"))"
   ]
  },
  {
   "cell_type": "markdown",
   "id": "6a027806",
   "metadata": {},
   "source": [
    "# WolframAlphaAPIWrapper\n",
    "\n",
    "Definition: Runs queries in Wolfram Alpha (math, science, knowledge).\n",
    "\n",
    "When to use: For exact calculations, equations, or factual reasoning.\n",
    "\n",
    "pip install wolframalpha\n",
    "\n",
    "Get appid: https://developer.wolframalpha.com/access"
   ]
  },
  {
   "cell_type": "code",
   "execution_count": 10,
   "id": "4bb6196b",
   "metadata": {},
   "outputs": [],
   "source": [
    "import nest_asyncio\n",
    "nest_asyncio.apply()\n"
   ]
  },
  {
   "cell_type": "code",
   "execution_count": null,
   "id": "5c3405f4",
   "metadata": {},
   "outputs": [
    {
     "name": "stdout",
     "output_type": "stream",
     "text": [
      "integral_0^10 x^2 dx = 1000/3≈333.33\n"
     ]
    }
   ],
   "source": [
    "import requests\n",
    "\n",
    "appid = \"app id here\"\n",
    "query = \"integrate x^2 from 0 to 10\"\n",
    "\n",
    "url = \"http://api.wolframalpha.com/v2/query\"\n",
    "\n",
    "params = {\"appid\": appid, \"input\": query, \"output\": \"json\"}\n",
    "\n",
    "resp = requests.get(url, params=params)\n",
    "data = resp.json()\n",
    "\n",
    "pods = data[\"queryresult\"][\"pods\"]\n",
    "for pod in pods:\n",
    "    if pod.get(\"title\") in [\"Result\", \"Definite integral\", \"Decimal approximation\"]:\n",
    "        print(pod[\"subpods\"][0][\"plaintext\"])\n",
    "        break\n"
   ]
  },
  {
   "cell_type": "markdown",
   "id": "10c7e573",
   "metadata": {},
   "source": [
    "# GoogleSearchAPIWrapper\n",
    "\n",
    "Definition: Performs searches using Google’s Custom Search JSON API.\n",
    "\n",
    "When to use: For more accurate Google results if you have API key.\n",
    "\n",
    "pip install google-api-python-client>=2.100.0\n",
    "\n",
    "\n",
    "google search engine: https://programmablesearchengine.google.com/controlpanel/create \n",
    "\n",
    "google api key: https://console.cloud.google.com/welcome?project=search-engine-473104\n",
    "\n",
    "google api enable: https://console.cloud.google.com/apis/library/customsearch.googleapis.com?project=search-engine-473104\n"
   ]
  },
  {
   "cell_type": "code",
   "execution_count": null,
   "id": "0fd37d43",
   "metadata": {},
   "outputs": [
    {
     "name": "stdout",
     "output_type": "stream",
     "text": [
      "Dec 6, 2024 ... In this article, we'll talk about what a chatbot is and the benefits of using one before diving into the best chatbots for real estate agent websites. Apr 4, 2025 ... ManyChat is one of the best platforms for real estate chatbots because of its strong focus on social media automation, especially through ... Jan 29, 2025 ... Tidio is a feature-rich platform designed to meet the unique needs of real estate professionals. Whether you're answering FAQs, engaging ... Let our AI chatbot automate your lead generation process so you can focus on what you do best. Selling homes. Engage Leads. Apr 1, 2025 ... I've been diving into AI tools lately and was curious if anyone here is actively using AI or chatbots to streamline parts of their real estate workflow. Oct 31, 2023 ... If you're paying once a year, RealtyChatbot will run you $119 a month with a $195 setup fee. Otherwise it's $149 per month with a $995 setup fee ... Jul 10, 2024 ... Botpress is a chatbot platform designed for building chatbots with high customization capabilities, making it a strong contender for real estate ... Feb 12, 2024 ... Freshchat has been one of the best chat support systems I have used till now. I have worked with multiple other chat support systems and I can ... Jun 5, 2025 ... I've rounded up the 10 best real estate chatbots that I believe are making a real difference. These tools aren't just trendy tech—they're ... Jun 24, 2024 ... It's impressive that you're looking to build an AI chatbot for real estate agencies! ... Powered by Discourse, best viewed with JavaScript ...\n"
     ]
    }
   ],
   "source": [
    "from langchain_community.utilities import GoogleSearchAPIWrapper\n",
    "\n",
    "google_search = GoogleSearchAPIWrapper(google_api_key=\"api key\",google_cse_id=\"id\")\n",
    "print(google_search.run(\"best real estate chatbot\"))"
   ]
  },
  {
   "cell_type": "markdown",
   "id": "c46607f6",
   "metadata": {},
   "source": [
    "# WikipediaAPIWrapper\n",
    "\n",
    "Definition: Fetches summaries and page content from Wikipedia.\n",
    "\n",
    "When to use: For quick factual lookups or background context.\n",
    "\n",
    "\n",
    "pip install wikipedia"
   ]
  },
  {
   "cell_type": "code",
   "execution_count": 31,
   "id": "5aef08b4",
   "metadata": {},
   "outputs": [
    {
     "name": "stdout",
     "output_type": "stream",
     "text": [
      "Page: Machine learning\n",
      "Summary: Machine learning (ML) is a field of study in artificial intelligence concerned with the development and study of statistical algorithms that can learn from data and generalise to unseen data, and thus perform tasks without explicit instructions. Within a subdiscipline in machine learning, advances in the field of deep learning have allowed neural networks, a class of statistical algorithms, to surpass many previous machine learning approaches in performance.\n",
      "ML finds application in many fields, including natural language processing, computer vision, speech recognition, email filtering, agriculture, and medicine. The application of ML to business problems is known as predictive analytics.\n",
      "Statistics and mathematical optimisation (mathematical programming) methods comprise the foundations of machine learning. Data mining is a related field of study, focusing on exploratory data analysis (EDA) via unsupervised learning.\n",
      "From a theoretical viewpoint, probably approximately correct learning provides a framework for describing machine learning.\n",
      "\n",
      "\n",
      "\n",
      "Page: Neural network (machine learning)\n",
      "Summary: In machine learning, a neural network (also artificial neural network or neural net, abbreviated ANN or NN) is a computational model inspired by the structure and functions of biological neural networks.\n",
      "A neural network consists of connected units or nodes called artificial neurons, which loosely model the neurons in the brain. Artificial neuron models that mimic biological neurons more closely have also been recently investigated and shown to significantly improve performance. These are connected by edges, which model the synapses in the brain. Each artificial neuron receives signals from connected neurons, then processes them and sends a signal to other connected neurons. The \"signal\" is a real number, and the output of each neuron is computed by some non-linear function of the totality of its inputs, called the activation function. The strength of the signal at each connection is determined by a weight, which adjusts during the learning process.\n",
      "Typically, neurons are aggregated into layers. Different layers may perform different transformations on their inputs. Signals travel from the first layer (the input layer) to the last layer (the output layer), possibly passing through multiple intermediate layers (hidden layers). A network is typically called a deep neural network if it has at least two hidden layers.\n",
      "Artificial neural networks are used for various tasks, including predictive modeling, adaptive control, and solving problems in artificial intelligence. They can learn from experience, and can derive conclusions from a complex and seemingly unrelated set of information.\n",
      "\n",
      "Page: Quantum machine learning\n",
      "Summary: Quantum machine learning (QML), pioneered by Ventura and Martinez  and by Trugenberger in the late 1990s and early 2000s, is the study of quantum algorithms which solve machine learning tasks.\n",
      "The most common use of the term refers to quantum algorithms for machine learning tasks which analyze classical data, sometimes called quantum-enhanced machine learning. QML algorithms use qubits and quantum operations to try to improve the space and time complexity of classical machine learning algortihms. This includes hybrid methods that involve both classical and quantum processing, where computationally difficult subroutines are outsourced to a quantum device. These routines can be more complex in nature and executed faster on a quantum computer. Furthermore, quantum algorithms can be used to analyze quantum states instead of classical data.\n",
      "The term \"quantum machine learning\" is sometimes use to refer classical machine learning methods applied to data generated from quantum experiments (i.e. machine learning of quantum systems), such as learning the phase transitions of a quantum system or creating new quantum experiments.\n",
      "QML also extends to a branch of research that explores methodological and str\n"
     ]
    }
   ],
   "source": [
    "from langchain_community.utilities import WikipediaAPIWrapper\n",
    "\n",
    "wiki = WikipediaAPIWrapper()\n",
    "print(wiki.run(\"Machine learning\"))\n"
   ]
  },
  {
   "cell_type": "markdown",
   "id": "e2922bca",
   "metadata": {},
   "source": [
    "# FileManagementToolkit\n",
    "\n",
    "Definition: Tools for creating, editing, and reading files.\n",
    "\n",
    "When to use: To let an agent handle local text/code files."
   ]
  },
  {
   "cell_type": "code",
   "execution_count": 47,
   "id": "0afb713f",
   "metadata": {},
   "outputs": [
    {
     "name": "stdout",
     "output_type": "stream",
     "text": [
      "read_file\n",
      "write_file\n"
     ]
    }
   ],
   "source": [
    "from langchain_community.agent_toolkits import FileManagementToolkit\n",
    "\n",
    "toolkit = FileManagementToolkit(root_dir=\"./sandbox\", selected_tools=[\"read_file\", \"write_file\"])\n",
    "for tool in toolkit.get_tools():\n",
    "    print(tool.name)\n"
   ]
  }
 ],
 "metadata": {
  "kernelspec": {
   "display_name": "myenv",
   "language": "python",
   "name": "python3"
  },
  "language_info": {
   "codemirror_mode": {
    "name": "ipython",
    "version": 3
   },
   "file_extension": ".py",
   "mimetype": "text/x-python",
   "name": "python",
   "nbconvert_exporter": "python",
   "pygments_lexer": "ipython3",
   "version": "3.11.1"
  }
 },
 "nbformat": 4,
 "nbformat_minor": 5
}
