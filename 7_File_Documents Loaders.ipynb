{
 "cells": [
  {
   "cell_type": "markdown",
   "id": "0b5aeb52",
   "metadata": {},
   "source": [
    "# 1 File-based Loaders\n",
    "\n",
    "Load documents from local file formats.\n",
    "\n",
    "Text Files → TextLoader, UnstructuredFileLoader\n",
    "\n",
    "CSV Files → CSVLoader, UnstructuredCSVLoader\n",
    "\n",
    "JSON Files → JSONLoader\n",
    "\n",
    "PDF Files → PyPDFLoader, PDFPlumberLoader, PyMuPDFLoader\n",
    "\n",
    "Word Documents → Docx2txtLoader, UnstructuredWordDocumentLoader\n",
    "\n",
    "Excel Files → UnstructuredExcelLoader, PandasExcelLoader\n",
    "\n",
    "HTML/XML → UnstructuredHTMLLoader, UnstructuredXMLLoader, BSHTMLLoader\n",
    "\n"
   ]
  },
  {
   "cell_type": "markdown",
   "id": "342ed263",
   "metadata": {},
   "source": [
    "# 1️ Text Loader\n",
    "\n",
    "TextLoader in LangChain reads plain .txt files and converts them into LangChain Document objects for processing.\n",
    "\n",
    "\n",
    "pip install langchain_openai \n",
    "\n",
    "pip install langchain_community\n",
    "\n",
    "pip install ipykernel"
   ]
  },
  {
   "cell_type": "code",
   "execution_count": 1,
   "id": "7ec6ef1b",
   "metadata": {},
   "outputs": [
    {
     "data": {
      "text/plain": [
       "[Document(metadata={'source': 'files/sample.txt'}, page_content='Key Takeaways\\nHierarchical structure awareness improves classification accuracy for parent-child relationships.\\n\\nHard negatives are crucial for robust training, especially in semantic relation tasks.\\n\\nMambaLLM offers speed advantages without major loss in representational quality.\\n\\nNext Steps\\nHyperparameter tuning â€” Adjust learning rates, batch size, and negative sampling ratio.\\n\\nModel regularization â€” Introduce dropout or layer freezing to reduce overfitting.\\n\\nExtended evaluation â€” Test on unseen WordNet branches to assess generalization.\\n\\nReal-world integration â€” Apply model to knowledge graph validation in production scenarios.')]"
      ]
     },
     "execution_count": 1,
     "metadata": {},
     "output_type": "execute_result"
    }
   ],
   "source": [
    "from langchain_community.document_loaders import TextLoader\n",
    "\n",
    "loader = TextLoader(\"files/sample.txt\")\n",
    "doc = loader.load()\n",
    "doc"
   ]
  },
  {
   "cell_type": "code",
   "execution_count": 2,
   "id": "14c1c6a3",
   "metadata": {},
   "outputs": [
    {
     "data": {
      "text/plain": [
       "{'source': 'files/sample.txt'}"
      ]
     },
     "execution_count": 2,
     "metadata": {},
     "output_type": "execute_result"
    }
   ],
   "source": [
    "doc[0].metadata"
   ]
  },
  {
   "cell_type": "code",
   "execution_count": 3,
   "id": "a4e1694f",
   "metadata": {},
   "outputs": [
    {
     "name": "stdout",
     "output_type": "stream",
     "text": [
      "Key Takeaways\n",
      "Hierarchical structure awareness improves classification accuracy for parent-child relationships.\n",
      "\n",
      "Hard negatives are crucial for robust training, especially in semantic relation tasks.\n",
      "\n",
      "MambaLLM offers speed advantages without major loss in representational quality.\n",
      "\n",
      "Next Steps\n",
      "Hyperparameter tuning â€” Adjust learning rates, batch size, and negative sampling ratio.\n",
      "\n",
      "Model regularization â€” Introduce dropout or layer freezing to reduce overfitting.\n",
      "\n",
      "Extended evaluation â€” Test on unseen WordNet branches to assess generalization.\n",
      "\n",
      "Real-world integration â€” Apply model to knowledge graph validation in production scenarios.\n"
     ]
    }
   ],
   "source": [
    "print(doc[0].page_content)"
   ]
  },
  {
   "cell_type": "markdown",
   "id": "6e75b95e",
   "metadata": {},
   "source": [
    "# 2 PDF Loader\n",
    "\n",
    "pip install pypdf\n",
    "\n",
    "\n",
    "Purpose: Loads .pdf files, extracting text from each page.\n",
    "\n",
    "When to Use: When working with scanned or digital PDFs (works well with text-based PDFs, not images unless OCR is used)."
   ]
  },
  {
   "cell_type": "code",
   "execution_count": 4,
   "id": "8748b993",
   "metadata": {},
   "outputs": [
    {
     "name": "stdout",
     "output_type": "stream",
     "text": [
      "Key Takeaways \n",
      "Hierarchical structure awareness improves classification accuracy for parent-child relationships. \n",
      " \n",
      "Hard negatives are crucial for robust training, especially in semantic relation tasks. \n",
      " \n",
      "MambaLLM offers speed advantages without major loss in representational quality. \n",
      " \n",
      "Next Steps \n",
      "Hyperparameter tuning — Adjust learning rates, batch size, and negative sampling ratio. \n",
      " \n",
      "Model regularization — Introduce dropout or layer freezing to reduce overfitting. \n",
      " \n",
      "Extended evaluation — Test on unseen WordNet branches to assess generalization. \n",
      " \n",
      "Real-world integration — Apply model to knowledge graph validation in production scenarios.\n"
     ]
    }
   ],
   "source": [
    "from langchain_community.document_loaders import PyPDFLoader\n",
    "\n",
    "loader = PyPDFLoader('files/sample.pdf')\n",
    "\n",
    "doc = loader.load()\n",
    "print(doc[0].page_content)"
   ]
  },
  {
   "cell_type": "markdown",
   "id": "b040b618",
   "metadata": {},
   "source": [
    "# 3 DOCX Loader (Word Documents)\n",
    "\n",
    "pip install docx2txt\n",
    "\n",
    "\n",
    "\n",
    "Purpose: Loads .docx Word files and extracts the text. \n",
    "\n",
    "When to Use: For Microsoft Word documents containing formatted or unformatted text."
   ]
  },
  {
   "cell_type": "code",
   "execution_count": 5,
   "id": "db0b1576",
   "metadata": {},
   "outputs": [
    {
     "name": "stdout",
     "output_type": "stream",
     "text": [
      "Key Takeaways\n",
      "\n",
      "Hierarchical structure awareness improves classification accuracy for parent-child relationships.\n",
      "\n",
      "\n",
      "\n",
      "Hard negatives are crucial for robust training, especially in semantic relation tasks.\n",
      "\n",
      "\n",
      "\n",
      "MambaLLM offers speed advantages without major loss in representational quality.\n",
      "\n",
      "\n",
      "\n",
      "Next Steps\n",
      "\n",
      "Hyperparameter tuning — Adjust learning rates, batch size, and negative sampling ratio.\n",
      "\n",
      "\n",
      "\n",
      "Model regularization — Introduce dropout or layer freezing to reduce overfitting.\n",
      "\n",
      "\n",
      "\n",
      "Extended evaluation — Test on unseen WordNet branches to assess generalization.\n",
      "\n",
      "\n",
      "\n",
      "Real-world integration — Apply model to knowledge graph validation in production scenarios.\n"
     ]
    }
   ],
   "source": [
    "from langchain_community.document_loaders import Docx2txtLoader\n",
    "\n",
    "loader = Docx2txtLoader(\"files/sample.docx\")\n",
    "documents = loader.load()\n",
    "print(documents[0].page_content)\n"
   ]
  },
  {
   "cell_type": "markdown",
   "id": "a8a10d84",
   "metadata": {},
   "source": [
    "# 4 CSV Loader\n",
    "\n",
    "pip install \"unstructured[all-docs]\" \n",
    "\n",
    "or \n",
    "\n",
    "pip install \"unstructured[all]\" \n",
    "\n",
    "\n",
    "\n",
    "\n",
    "Purpose: Loads .csv files and converts each row into a Document.\n",
    "When to Use: For structured data in comma-separated values format."
   ]
  },
  {
   "cell_type": "code",
   "execution_count": 6,
   "id": "06129612",
   "metadata": {},
   "outputs": [
    {
     "name": "stdout",
     "output_type": "stream",
     "text": [
      "child: dog\n",
      "parent: animal\n",
      "random_negatives: table\n",
      "hard_negatives: cat\n"
     ]
    }
   ],
   "source": [
    "from langchain_community.document_loaders import CSVLoader\n",
    "\n",
    "loader = CSVLoader(file_path=\"files/test_data.csv\")\n",
    "doc = loader.load()\n",
    "print(doc[0].page_content)"
   ]
  },
  {
   "cell_type": "markdown",
   "id": "1bd6dbbd",
   "metadata": {},
   "source": [
    "# 5 Excel Loader\n",
    "\n",
    "pip install networkx\n",
    "\n",
    "pip install msoffcrypto-tool\n",
    "\n",
    "pip install openpyxl \n",
    "\n",
    "pip install pandas \n",
    "\n",
    "Purpose: Loads .xlsx files into LangChain as documents.\n",
    "When to Use: For spreadsheet data in Microsoft Excel format."
   ]
  },
  {
   "cell_type": "code",
   "execution_count": 7,
   "id": "ee9efc43",
   "metadata": {},
   "outputs": [
    {
     "name": "stdout",
     "output_type": "stream",
     "text": [
      "child parent random_negatives hard_negatives dog animal table cat rose plant chair sunflower sparrow bird car pigeon laptop device pen tablet python programming banana java\n"
     ]
    }
   ],
   "source": [
    "from langchain_community.document_loaders import UnstructuredExcelLoader\n",
    "\n",
    "loader = UnstructuredExcelLoader(\"files/test_data.xlsx\")\n",
    "doc = loader.load()\n",
    "\n",
    "print(doc[0].page_content)"
   ]
  },
  {
   "cell_type": "markdown",
   "id": "c0882cf8",
   "metadata": {},
   "source": [
    "# 6 JSON Loader\n",
    "Purpose: Loads .json files and parses them into documents.\n",
    "\n",
    "When to Use: For structured or semi-structured JSON data."
   ]
  },
  {
   "cell_type": "code",
   "execution_count": null,
   "id": "a8ec14fb",
   "metadata": {},
   "outputs": [
    {
     "name": "stdout",
     "output_type": "stream",
     "text": [
      "{\"child\": \"dog\", \"parent\": \"animal\", \"random_negatives\": \"table\", \"hard_negatives\": \"cat\"}\n",
      "{\"child\": \"dog\", \"parent\": \"animal\", \"random_negatives\": \"table\", \"hard_negatives\": \"cat\"}\n",
      "{\"child\": \"rose\", \"parent\": \"plant\", \"random_negatives\": \"chair\", \"hard_negatives\": \"sunflower\"}\n",
      "{\"child\": \"sparrow\", \"parent\": \"bird\", \"random_negatives\": \"car\", \"hard_negatives\": \"pigeon\"}\n",
      "{\"child\": \"laptop\", \"parent\": \"device\", \"random_negatives\": \"pen\", \"hard_negatives\": \"tablet\"}\n",
      "{\"child\": \"python\", \"parent\": \"programming\", \"random_negatives\": \"banana\", \"hard_negatives\": \"java\"}\n"
     ]
    }
   ],
   "source": [
    "from langchain_community.document_loaders import JSONLoader\n",
    "\n",
    "loader = JSONLoader(\n",
    "    file_path=\"files/test_data.json\",\n",
    "    jq_schema=\".[]\",\n",
    "    text_content=False,\n",
    ")\n",
    "\n",
    "docs = loader.load()\n",
    "\n",
    "\n",
    "for doc in docs:\n",
    "    print(doc.page_content)\n"
   ]
  },
  {
   "cell_type": "markdown",
   "id": "11e13038",
   "metadata": {},
   "source": [
    "\n",
    "# 7 HTML / XML Loading"
   ]
  },
  {
   "cell_type": "code",
   "execution_count": null,
   "id": "3e84b5b1",
   "metadata": {},
   "outputs": [
    {
     "name": "stdout",
     "output_type": "stream",
     "text": [
      "this is title\n",
      "\n",
      "we are here to watch this page\n"
     ]
    }
   ],
   "source": [
    " \n",
    "from langchain_community.document_loaders import UnstructuredHTMLLoader, UnstructuredXMLLoader\n",
    "\n",
    "# Unstructured HTML Loader\n",
    "loader = UnstructuredHTMLLoader(\"files/test_data.html\")\n",
    "docs = loader.load()\n",
    "print(docs[0].page_content)"
   ]
  },
  {
   "cell_type": "code",
   "execution_count": 23,
   "id": "e747dbc3",
   "metadata": {},
   "outputs": [
    {
     "name": "stdout",
     "output_type": "stream",
     "text": [
      "Introduction to AI\n",
      "\n",
      "Noor Saeed\n",
      "\n",
      "\n",
      "            Artificial Intelligence (AI) is the simulation of human intelligence in machines that are programmed to think and learn.\n",
      "        \n",
      "\n",
      "Machine Learning\n",
      "\n",
      "John Smith\n",
      "\n",
      "\n",
      "            Machine learning is a subset of AI that enables systems to learn from data without being explicitly programmed.\n",
      "        \n",
      "\n",
      "Deep Learning\n",
      "\n",
      "Mary Johnson\n",
      "\n",
      "\n",
      "            Deep learning uses neural networks with many layers to analyze various factors of data, especially in image and speech recognition.\n",
      "        \n"
     ]
    }
   ],
   "source": [
    "# Unstructured XML Loader\n",
    "loader = UnstructuredXMLLoader(\"files/test_data.xml\")\n",
    "docs = loader.load()\n",
    "print(docs[0].page_content)\n"
   ]
  },
  {
   "cell_type": "code",
   "execution_count": null,
   "id": "9791f840",
   "metadata": {},
   "outputs": [],
   "source": []
  }
 ],
 "metadata": {
  "kernelspec": {
   "display_name": "myvenv",
   "language": "python",
   "name": "python3"
  },
  "language_info": {
   "codemirror_mode": {
    "name": "ipython",
    "version": 3
   },
   "file_extension": ".py",
   "mimetype": "text/x-python",
   "name": "python",
   "nbconvert_exporter": "python",
   "pygments_lexer": "ipython3",
   "version": "3.11.1"
  }
 },
 "nbformat": 4,
 "nbformat_minor": 5
}
