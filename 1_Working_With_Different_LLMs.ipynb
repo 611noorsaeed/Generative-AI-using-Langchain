{
 "cells": [
  {
   "cell_type": "markdown",
   "id": "c7c6e160",
   "metadata": {},
   "source": [
    "# 1 Google API\n",
    "\n",
    "pip install langchain-google-genai python-dotenv ipykernel\n",
    "\n"
   ]
  },
  {
   "cell_type": "code",
   "execution_count": 6,
   "id": "8e326187",
   "metadata": {},
   "outputs": [
    {
     "name": "stdout",
     "output_type": "stream",
     "text": [
      "The Earth's distance from the Sun is not constant because Earth's orbit is elliptical.  The average distance is about **93 million miles** (149.6 million kilometers). This average distance is also known as one astronomical unit (AU).\n"
     ]
    }
   ],
   "source": [
    "from langchain_google_genai import ChatGoogleGenerativeAI\n",
    "import os \n",
    "from dotenv import load_dotenv\n",
    "\n",
    "# load env\n",
    "load_dotenv()\n",
    "\n",
    "# load model \n",
    "model = ChatGoogleGenerativeAI(model='gemini-1.5-flash', google_api_key=os.getenv('GOOGLE_API_KEY'))\n",
    "\n",
    "# user query \n",
    "\n",
    "user_query = \"How far eartch is from sun\"\n",
    "\n",
    "output = model.invoke(user_query).content\n",
    "\n",
    "print(output)\n"
   ]
  },
  {
   "cell_type": "code",
   "execution_count": 7,
   "id": "7a8ba031",
   "metadata": {},
   "outputs": [
    {
     "name": "stdout",
     "output_type": "stream",
     "text": [
      "A black hole is a region of spacetime where gravity is so strong that nothing, not even light, can escape.  It's formed when a massive star collapses at the end of its life.  The immense gravity compresses the star's matter into an incredibly dense point called a singularity.\n",
      "\n",
      "Here's a breakdown of key aspects:\n",
      "\n",
      "* **Singularity:** This is the point at the center of a black hole where density and gravity become infinite.  Our current understanding of physics breaks down at the singularity.\n",
      "\n",
      "* **Event Horizon:** This is the boundary around the singularity.  It's the point of no return.  Anything that crosses the event horizon is inevitably pulled into the singularity.  The size of the event horizon is determined by the black hole's mass.\n",
      "\n",
      "* **Gravitational Field:** Black holes have an incredibly strong gravitational field, which warps spacetime around them. This warping can bend light, causing gravitational lensing.\n",
      "\n",
      "* **Types of Black Holes:** There are different types of black holes, including:\n",
      "    * **Stellar black holes:** Formed from the collapse of massive stars.\n",
      "    * **Supermassive black holes:** Found at the centers of most galaxies, with masses millions or even billions of times that of the Sun.\n",
      "    * **Intermediate-mass black holes:**  A less well-understood category, with masses between stellar and supermassive black holes.\n",
      "\n",
      "* **Detection:** Black holes themselves cannot be seen directly because they don't emit light. However, their presence can be inferred through their effects on surrounding matter and light:\n",
      "    * **Gravitational lensing:** Bending of light around the black hole.\n",
      "    * **Accretion disks:**  Matter swirling around the black hole before falling in, emitting intense radiation.\n",
      "    * **Gravitational waves:** Ripples in spacetime caused by the collision of black holes.\n",
      "\n",
      "\n",
      "In short, a black hole is an extremely dense object with gravity so strong that nothing can escape its pull.  They are fascinating and mysterious objects that continue to be studied by scientists around the world.\n"
     ]
    }
   ],
   "source": [
    "# user query \n",
    "\n",
    "user_query = \"What is black hole\"\n",
    "\n",
    "output = model.invoke(user_query).content\n",
    "\n",
    "print(output)"
   ]
  },
  {
   "cell_type": "markdown",
   "id": "6563f478",
   "metadata": {},
   "source": [
    "# 2 Openai API\n",
    "pip install langchain_openai\n",
    "\n"
   ]
  },
  {
   "cell_type": "code",
   "execution_count": null,
   "id": "62de8923",
   "metadata": {},
   "outputs": [],
   "source": [
    "from langchain_openai import ChatOpenAI\n",
    "from dotenv import load_dotenv\n",
    "\n",
    "load_dotenv()\n",
    "\n",
    "model = ChatOpenAI(model='gpt-4', temperature=1.5, max_completion_tokens=10)\n",
    "\n",
    "result = model.invoke(\"What is black hole\")\n",
    "\n",
    "print(result.content)\n"
   ]
  },
  {
   "cell_type": "markdown",
   "id": "2f10bb34",
   "metadata": {},
   "source": [
    "# 3 Anthropic API"
   ]
  },
  {
   "cell_type": "code",
   "execution_count": null,
   "id": "4c966a41",
   "metadata": {},
   "outputs": [],
   "source": [
    "from langchain_anthropic import ChatAnthropic\n",
    "from dotenv import load_dotenv\n",
    "\n",
    "load_dotenv()\n",
    "\n",
    "model = ChatAnthropic(model='claude-3-5-sonnet-20241022')\n",
    "\n",
    "result = model.invoke('What is black hole')\n",
    "\n",
    "print(result.content)"
   ]
  }
 ],
 "metadata": {
  "kernelspec": {
   "display_name": "myenv",
   "language": "python",
   "name": "python3"
  },
  "language_info": {
   "codemirror_mode": {
    "name": "ipython",
    "version": 3
   },
   "file_extension": ".py",
   "mimetype": "text/x-python",
   "name": "python",
   "nbconvert_exporter": "python",
   "pygments_lexer": "ipython3",
   "version": "3.11.1"
  }
 },
 "nbformat": 4,
 "nbformat_minor": 5
}
